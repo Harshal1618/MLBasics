{
  "nbformat": 4,
  "nbformat_minor": 0,
  "metadata": {
    "colab": {
      "name": "KMean_K=3.ipynb",
      "version": "0.3.2",
      "provenance": [],
      "collapsed_sections": [],
      "include_colab_link": true
    },
    "kernelspec": {
      "name": "python3",
      "display_name": "Python 3"
    }
  },
  "cells": [
    {
      "cell_type": "markdown",
      "metadata": {
        "id": "view-in-github",
        "colab_type": "text"
      },
      "source": [
        "<a href=\"https://colab.research.google.com/github/Harshal1618/MLBasics/blob/master/KMean_K%3D3.ipynb\" target=\"_parent\"><img src=\"https://colab.research.google.com/assets/colab-badge.svg\" alt=\"Open In Colab\"/></a>"
      ]
    },
    {
      "metadata": {
        "id": "DQhgze0rVcO2",
        "colab_type": "text"
      },
      "cell_type": "markdown",
      "source": [
        "Create 3 clustres of randomized data"
      ]
    },
    {
      "metadata": {
        "id": "tV7yfq3_VimK",
        "colab_type": "code",
        "colab": {}
      },
      "cell_type": "code",
      "source": [
        "import numpy as np\n",
        "import matplotlib.pyplot as plt\n",
        "import matplotlib.cm as cm\n",
        "import pandas as pd"
      ],
      "execution_count": 0,
      "outputs": []
    },
    {
      "metadata": {
        "id": "nsVlicR9WCV7",
        "colab_type": "code",
        "outputId": "6e49031e-93f3-464f-d8dc-86dce14167a4",
        "colab": {
          "base_uri": "https://localhost:8080/",
          "height": 364
        }
      },
      "cell_type": "code",
      "source": [
        "p1 = (0,0)\n",
        "p2 = (4,0)\n",
        "p3 = (2,3.4)\n",
        "\n",
        "l = [p1,p2,p3] \n",
        "l_x = [e[0] for e in l]\n",
        "l_y = [e[1] for e in l]\n",
        "\n",
        "plt.scatter(l_x, l_y)"
      ],
      "execution_count": 0,
      "outputs": [
        {
          "output_type": "execute_result",
          "data": {
            "text/plain": [
              "<matplotlib.collections.PathCollection at 0x7f7d16092d68>"
            ]
          },
          "metadata": {
            "tags": []
          },
          "execution_count": 2
        },
        {
          "output_type": "display_data",
          "data": {
            "image/png": "[encoded data removed]",
            "text/plain": [
              "<Figure size 576x396 with 1 Axes>"
            ]
          },
          "metadata": {
            "tags": []
          }
        }
      ]
    },
    {
      "metadata": {
        "id": "JVPR-N7ZlkX1",
        "colab_type": "code",
        "outputId": "9ab6f6e6-03ff-4198-cb93-6dc10dfb143a",
        "colab": {
          "base_uri": "https://localhost:8080/",
          "height": 364
        }
      },
      "cell_type": "code",
      "source": [
        "\n",
        "l_dist1_x = np.random.normal(loc = l_x[0], scale = 1.0, size = 100)\n",
        "l_dist1_y = np.random.normal(loc = l_y[0], scale = 1.0, size = 100)\n",
        "\n",
        "plt.scatter(l_x, l_y, 50, 'g', alpha = 0.5)\n",
        "plt.scatter(l_dist1_x, l_dist1_y, 40, 'b', alpha = 0.9)"
      ],
      "execution_count": 0,
      "outputs": [
        {
          "output_type": "execute_result",
          "data": {
            "text/plain": [
              "<matplotlib.collections.PathCollection at 0x7f7d13fc3550>"
            ]
          },
          "metadata": {
            "tags": []
          },
          "execution_count": 3
        },
        {
          "output_type": "display_data",
          "data": {
            "image/png": "[encoded data removed]",
            "text/plain": [
              "<Figure size 576x396 with 1 Axes>"
            ]
          },
          "metadata": {
            "tags": []
          }
        }
      ]
    },
    {
      "metadata": {
        "id": "yNEtNXjmoOQi",
        "colab_type": "code",
        "colab": {}
      },
      "cell_type": "code",
      "source": [
        "l_pt_x = []\n",
        "l_pt_y = []\n",
        "\n",
        "\n",
        "for i in range(len(l)):\n",
        "  x_dist = list(np.random.normal(loc = l[i][0], scale = 1.0, size = 50))\n",
        "  y_dist = list(np.random.normal(loc = l[i][1], scale = 1.0, size = 50))\n",
        "  \n",
        "  l_pt_x = l_pt_x + x_dist\n",
        "  l_pt_y = l_pt_y + y_dist"
      ],
      "execution_count": 0,
      "outputs": []
    },
    {
      "metadata": {
        "id": "2KH-4WqtfyMH",
        "colab_type": "code",
        "colab": {}
      },
      "cell_type": "code",
      "source": [
        "# Find distance of each point from current mean\n",
        "df = pd.DataFrame({'iteration':0,'pt_x': l_pt_x , 'pt_y': l_pt_y, 'dist0':0, 'dist1':0, 'dist2':0, 'closest':0})"
      ],
      "execution_count": 0,
      "outputs": []
    },
    {
      "metadata": {
        "id": "V1Wd39ODgRIl",
        "colab_type": "code",
        "colab": {}
      },
      "cell_type": "code",
      "source": [
        "# Define number of means\n",
        "k = 3\n",
        "\n",
        "# select random elements\n",
        "l_random_mean = np.random.randint(0,len(l_pt_x),k)\n",
        "\n",
        "# Current means\n",
        "l_curr_mean = []\n",
        "\n",
        "# plot random means\n",
        "for i in range(k):\n",
        "  l_curr_mean.append([l_pt_x[l_random_mean[i]], l_pt_y[l_random_mean[i]]])\n",
        "  \n",
        "df_mean = pd.DataFrame({'iteration':0, \n",
        "                        'k':range(k), \n",
        "                        'x_mean': [l[0] for l in l_curr_mean],\n",
        "                        'y_mean': [l[1] for l in l_curr_mean]\n",
        "                       })\n",
        "\n"
      ],
      "execution_count": 0,
      "outputs": []
    },
    {
      "metadata": {
        "id": "HN8PqM-MslK8",
        "colab_type": "code",
        "colab": {}
      },
      "cell_type": "code",
      "source": [
        "def distance(p,x,y):\n",
        "  d = np.sqrt((p[0]-x)**2 + (p[1]- y)**2)\n",
        "  return d"
      ],
      "execution_count": 0,
      "outputs": []
    },
    {
      "metadata": {
        "id": "OzQQSno9h9ra",
        "colab_type": "code",
        "colab": {}
      },
      "cell_type": "code",
      "source": [
        "# no of iterations\n",
        "iter = 20\n",
        "\n",
        "for i in range(iter):\n",
        "  df.loc[df['iteration'] == i, ['dist0']] = df[df['iteration'] == i].apply(lambda row : distance(l_curr_mean[0], row['pt_x'], row['pt_y']), axis = 1)\n",
        "  df.loc[df['iteration'] == i, ['dist1']] = df[df['iteration'] == i].apply(lambda row : distance(l_curr_mean[1], row['pt_x'], row['pt_y']), axis = 1)\n",
        "  df.loc[df['iteration'] == i, ['dist2']] = df[df['iteration'] == i].apply(lambda row : distance(l_curr_mean[2], row['pt_x'], row['pt_y']), axis = 1)\n",
        "  \n",
        "  df.loc[df['iteration'] == i, ['closest']] = df[df['iteration'] == i].apply(lambda row : np.argmin(list(row[['dist0','dist1','dist2']])), axis = 1)\n",
        "  \n",
        "  for j in range(k):\n",
        "    l_curr_mean[j][0] = df['pt_x'][(df['closest'] == j) & (df['iteration'] == i)].mean()\n",
        "    l_curr_mean[j][1] = df['pt_y'][(df['closest'] == j) & (df['iteration'] == i)].mean()\n",
        "    \n",
        "  df_mean = df_mean.append(pd.DataFrame({'iteration':i+1, \n",
        "                        'k':range(k), \n",
        "                        'x_mean': [l[0] for l in l_curr_mean],\n",
        "                        'y_mean': [l[1] for l in l_curr_mean]\n",
        "                       }))\n",
        "  \n",
        "  df = df.append(pd.DataFrame({'iteration':i+1,'pt_x': l_pt_x , 'pt_y': l_pt_y}))"
      ],
      "execution_count": 0,
      "outputs": []
    },
    {
      "metadata": {
        "id": "FBvg-CX8o5N9",
        "colab_type": "code",
        "outputId": "fc6e20d0-6174-48d9-f4a8-9e76616619bc",
        "colab": {
          "base_uri": "https://localhost:8080/",
          "height": 347
        }
      },
      "cell_type": "code",
      "source": [
        "iteration_no = 8\n",
        "color = ['blue','green','orange']\n",
        "\n",
        "plt.scatter(l_x, l_y, 1000, 'grey', alpha = 0.5)\n",
        "for i in range(k):\n",
        "  plt.scatter(df['pt_x'][(df['iteration'] == iteration_no) & (df['closest'] == i)], \n",
        "              df['pt_y'][(df['iteration'] == iteration_no) & (df['closest'] == i)],\n",
        "              10, color[i], alpha = 0.6)\n",
        "  plt.scatter(df_mean['x_mean'][(df_mean['iteration'] == iteration_no) & (df_mean['k'] == i)],\n",
        "              df_mean['y_mean'][(df_mean['iteration'] == iteration_no) & (df_mean['k'] == i)],\n",
        "              50,'red', alpha = 0.8)"
      ],
      "execution_count": 0,
      "outputs": [
        {
          "output_type": "display_data",
          "data": {
            "image/png": "[encoded data removed]",
            "text/plain": [
              "<Figure size 576x396 with 1 Axes>"
            ]
          },
          "metadata": {
            "tags": []
          }
        }
      ]
    }
  ]
}